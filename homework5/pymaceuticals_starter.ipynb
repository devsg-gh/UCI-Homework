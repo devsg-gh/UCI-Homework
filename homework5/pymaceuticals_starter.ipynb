{
 "cells": [
  {
   "cell_type": "markdown",
   "metadata": {},
   "source": [
    "## Observations and Insights"
   ]
  },
  {
   "cell_type": "markdown",
   "metadata": {},
   "source": []
  },
  {
   "cell_type": "markdown",
   "metadata": {},
   "source": [
    "## Dependencies and starter code"
   ]
  },
  {
   "cell_type": "code",
<<<<<<< HEAD
   "execution_count": 1,
   "metadata": {},
   "outputs": [],
   "source": [
    "# Observations\n",
    "##1. Drug Ramicane has the lowest variance among all the other drugs\n",
    "##2. Male and Female are almost in equal strength \n",
    "##3. Coorelation between the mouse weight and volume depicts, mouse weight have impact on the volume\n",
    "##4. Capomulin seems to be the most potent drug amomg it's competitor. "
   ]
  },
  {
   "cell_type": "code",
   "execution_count": 2,
=======
   "execution_count": 84,
>>>>>>> fb8685b536881893e79a536e2c01a5a926065c44
   "metadata": {},
   "outputs": [
    {
     "data": {
      "text/html": [
       "<div>\n",
       "<style scoped>\n",
       "    .dataframe tbody tr th:only-of-type {\n",
       "        vertical-align: middle;\n",
       "    }\n",
       "\n",
       "    .dataframe tbody tr th {\n",
       "        vertical-align: top;\n",
       "    }\n",
       "\n",
       "    .dataframe thead th {\n",
       "        text-align: right;\n",
       "    }\n",
       "</style>\n",
       "<table border=\"1\" class=\"dataframe\">\n",
       "  <thead>\n",
       "    <tr style=\"text-align: right;\">\n",
       "      <th></th>\n",
       "      <th>Mouse ID</th>\n",
       "      <th>Drug Regimen</th>\n",
       "      <th>Sex</th>\n",
       "      <th>Age_months</th>\n",
       "      <th>Weight (g)</th>\n",
       "      <th>Timepoint</th>\n",
       "      <th>Tumor Volume (mm3)</th>\n",
       "      <th>Metastatic Sites</th>\n",
       "    </tr>\n",
       "  </thead>\n",
       "  <tbody>\n",
       "    <tr>\n",
       "      <th>0</th>\n",
       "      <td>k403</td>\n",
       "      <td>Ramicane</td>\n",
       "      <td>Male</td>\n",
       "      <td>21</td>\n",
       "      <td>16</td>\n",
       "      <td>0</td>\n",
       "      <td>45.000000</td>\n",
       "      <td>0</td>\n",
       "    </tr>\n",
       "    <tr>\n",
       "      <th>1</th>\n",
       "      <td>k403</td>\n",
       "      <td>Ramicane</td>\n",
       "      <td>Male</td>\n",
       "      <td>21</td>\n",
       "      <td>16</td>\n",
       "      <td>5</td>\n",
       "      <td>38.825898</td>\n",
       "      <td>0</td>\n",
       "    </tr>\n",
       "    <tr>\n",
       "      <th>2</th>\n",
       "      <td>k403</td>\n",
       "      <td>Ramicane</td>\n",
       "      <td>Male</td>\n",
       "      <td>21</td>\n",
       "      <td>16</td>\n",
       "      <td>10</td>\n",
       "      <td>35.014271</td>\n",
       "      <td>1</td>\n",
       "    </tr>\n",
       "    <tr>\n",
       "      <th>3</th>\n",
       "      <td>k403</td>\n",
       "      <td>Ramicane</td>\n",
       "      <td>Male</td>\n",
       "      <td>21</td>\n",
       "      <td>16</td>\n",
       "      <td>15</td>\n",
       "      <td>34.223992</td>\n",
       "      <td>1</td>\n",
       "    </tr>\n",
       "    <tr>\n",
       "      <th>4</th>\n",
       "      <td>k403</td>\n",
       "      <td>Ramicane</td>\n",
       "      <td>Male</td>\n",
       "      <td>21</td>\n",
       "      <td>16</td>\n",
       "      <td>20</td>\n",
       "      <td>32.997729</td>\n",
       "      <td>1</td>\n",
       "    </tr>\n",
       "  </tbody>\n",
       "</table>\n",
       "</div>"
      ],
      "text/plain": [
       "  Mouse ID Drug Regimen   Sex  Age_months  Weight (g)  Timepoint  \\\n",
       "0     k403     Ramicane  Male          21          16          0   \n",
       "1     k403     Ramicane  Male          21          16          5   \n",
       "2     k403     Ramicane  Male          21          16         10   \n",
       "3     k403     Ramicane  Male          21          16         15   \n",
       "4     k403     Ramicane  Male          21          16         20   \n",
       "\n",
       "   Tumor Volume (mm3)  Metastatic Sites  \n",
       "0           45.000000                 0  \n",
       "1           38.825898                 0  \n",
       "2           35.014271                 1  \n",
       "3           34.223992                 1  \n",
       "4           32.997729                 1  "
      ]
     },
<<<<<<< HEAD
     "execution_count": 2,
=======
     "execution_count": 84,
>>>>>>> fb8685b536881893e79a536e2c01a5a926065c44
     "metadata": {},
     "output_type": "execute_result"
    }
   ],
   "source": [
    "# Dependencies and Setup\n",
    "import matplotlib.pyplot as plt\n",
    "import pandas as pd\n",
    "import scipy.stats as st\n",
    "\n",
    "# Study data files\n",
    "mouse_metadata = \"data/Mouse_metadata.csv\"\n",
    "study_results = \"data/Study_results.csv\"\n",
    "\n",
    "# Read the mouse data and the study results\n",
    "mouse_metadata = pd.read_csv(mouse_metadata)\n",
    "study_results = pd.read_csv(study_results)\n",
    "\n",
    "# Combine the data into a single dataset\n",
    "combined_data_df = pd.merge(mouse_metadata, study_results,\n",
    "                                 how='outer', on='Mouse ID')\n",
    "combined_data_df.head()"
   ]
  },
  {
<<<<<<< HEAD
=======
   "cell_type": "code",
   "execution_count": 87,
   "metadata": {},
   "outputs": [
    {
     "data": {
      "text/plain": [
       "Mouse ID               object\n",
       "Drug Regimen           object\n",
       "Sex                    object\n",
       "Age_months              int64\n",
       "Weight (g)              int64\n",
       "Timepoint               int64\n",
       "Tumor Volume (mm3)    float64\n",
       "Metastatic Sites        int64\n",
       "dtype: object"
      ]
     },
     "execution_count": 87,
     "metadata": {},
     "output_type": "execute_result"
    }
   ],
   "source": [
    "result =combined_data_df.dtypes \n",
    "result"
   ]
  },
  {
>>>>>>> fb8685b536881893e79a536e2c01a5a926065c44
   "cell_type": "markdown",
   "metadata": {},
   "source": [
    "## Summary statistics"
   ]
  },
  {
   "cell_type": "code",
   "execution_count": 4,
   "metadata": {},
   "outputs": [
    {
     "data": {
      "text/html": [
       "<div>\n",
       "<style scoped>\n",
       "    .dataframe tbody tr th:only-of-type {\n",
       "        vertical-align: middle;\n",
       "    }\n",
       "\n",
       "    .dataframe tbody tr th {\n",
       "        vertical-align: top;\n",
       "    }\n",
       "\n",
       "    .dataframe thead th {\n",
       "        text-align: right;\n",
       "    }\n",
       "</style>\n",
       "<table border=\"1\" class=\"dataframe\">\n",
       "  <thead>\n",
       "    <tr style=\"text-align: right;\">\n",
       "      <th></th>\n",
       "      <th>Mean</th>\n",
       "      <th>Median</th>\n",
       "      <th>Variance</th>\n",
       "      <th>Standard</th>\n",
       "      <th>Sem</th>\n",
       "    </tr>\n",
       "    <tr>\n",
       "      <th>Drug Regimen</th>\n",
       "      <th></th>\n",
       "      <th></th>\n",
       "      <th></th>\n",
       "      <th></th>\n",
       "      <th></th>\n",
       "    </tr>\n",
       "  </thead>\n",
       "  <tbody>\n",
       "    <tr>\n",
       "      <th>Capomulin</th>\n",
       "      <td>40.675741</td>\n",
       "      <td>41.557809</td>\n",
       "      <td>24.947764</td>\n",
       "      <td>4.994774</td>\n",
       "      <td>0.329346</td>\n",
       "    </tr>\n",
       "    <tr>\n",
       "      <th>Ceftamin</th>\n",
       "      <td>52.591172</td>\n",
       "      <td>51.776157</td>\n",
       "      <td>39.290177</td>\n",
       "      <td>6.268188</td>\n",
       "      <td>0.469821</td>\n",
       "    </tr>\n",
       "    <tr>\n",
       "      <th>Infubinol</th>\n",
       "      <td>52.884795</td>\n",
       "      <td>51.820584</td>\n",
       "      <td>43.128684</td>\n",
       "      <td>6.567243</td>\n",
       "      <td>0.492236</td>\n",
       "    </tr>\n",
       "    <tr>\n",
       "      <th>Ketapril</th>\n",
       "      <td>55.235638</td>\n",
       "      <td>53.698743</td>\n",
       "      <td>68.553577</td>\n",
       "      <td>8.279709</td>\n",
       "      <td>0.603860</td>\n",
       "    </tr>\n",
       "    <tr>\n",
       "      <th>Naftisol</th>\n",
       "      <td>54.331565</td>\n",
       "      <td>52.509285</td>\n",
       "      <td>66.173479</td>\n",
       "      <td>8.134708</td>\n",
       "      <td>0.596466</td>\n",
       "    </tr>\n",
       "    <tr>\n",
       "      <th>Placebo</th>\n",
       "      <td>54.033581</td>\n",
       "      <td>52.288934</td>\n",
       "      <td>61.168083</td>\n",
       "      <td>7.821003</td>\n",
       "      <td>0.581331</td>\n",
       "    </tr>\n",
       "    <tr>\n",
       "      <th>Propriva</th>\n",
       "      <td>52.322552</td>\n",
       "      <td>50.854632</td>\n",
       "      <td>42.351070</td>\n",
       "      <td>6.507770</td>\n",
       "      <td>0.512884</td>\n",
       "    </tr>\n",
       "    <tr>\n",
       "      <th>Ramicane</th>\n",
       "      <td>40.216745</td>\n",
       "      <td>40.673236</td>\n",
       "      <td>23.486704</td>\n",
       "      <td>4.846308</td>\n",
       "      <td>0.320955</td>\n",
       "    </tr>\n",
       "    <tr>\n",
       "      <th>Stelasyn</th>\n",
       "      <td>54.233149</td>\n",
       "      <td>52.431737</td>\n",
       "      <td>59.450562</td>\n",
       "      <td>7.710419</td>\n",
       "      <td>0.573111</td>\n",
       "    </tr>\n",
       "    <tr>\n",
       "      <th>Zoniferol</th>\n",
       "      <td>53.236507</td>\n",
       "      <td>51.818479</td>\n",
       "      <td>48.533355</td>\n",
       "      <td>6.966589</td>\n",
       "      <td>0.516398</td>\n",
       "    </tr>\n",
       "  </tbody>\n",
       "</table>\n",
       "</div>"
      ],
      "text/plain": [
       "                   Mean     Median   Variance  Standard       Sem\n",
       "Drug Regimen                                                     \n",
       "Capomulin     40.675741  41.557809  24.947764  4.994774  0.329346\n",
       "Ceftamin      52.591172  51.776157  39.290177  6.268188  0.469821\n",
       "Infubinol     52.884795  51.820584  43.128684  6.567243  0.492236\n",
       "Ketapril      55.235638  53.698743  68.553577  8.279709  0.603860\n",
       "Naftisol      54.331565  52.509285  66.173479  8.134708  0.596466\n",
       "Placebo       54.033581  52.288934  61.168083  7.821003  0.581331\n",
       "Propriva      52.322552  50.854632  42.351070  6.507770  0.512884\n",
       "Ramicane      40.216745  40.673236  23.486704  4.846308  0.320955\n",
       "Stelasyn      54.233149  52.431737  59.450562  7.710419  0.573111\n",
       "Zoniferol     53.236507  51.818479  48.533355  6.966589  0.516398"
      ]
     },
     "execution_count": 4,
     "metadata": {},
     "output_type": "execute_result"
    }
   ],
   "source": [
    "# Generate a summary statistics table of mean, median, variance, standard deviation, and SEM\n",
    "#of the tumor volume for each regimen\n",
    "\n",
    "drug_mean = combined_data_df.groupby([\"Drug Regimen\"])[\"Tumor Volume (mm3)\"].mean()\n",
    "drug_median = combined_data_df.groupby([\"Drug Regimen\"])[\"Tumor Volume (mm3)\"].median()\n",
    "drug_variance = combined_data_df.groupby([\"Drug Regimen\" ])[\"Tumor Volume (mm3)\"].var()\n",
    "drug_standard = combined_data_df.groupby([\"Drug Regimen\"])[\"Tumor Volume (mm3)\"].std()\n",
    "drug_sem = combined_data_df.groupby([\"Drug Regimen\"])[\"Tumor Volume (mm3)\"].sem()\n",
    "\n",
    "summary_stats_mean =pd.DataFrame(drug_mean)\n",
    "summary_stats_median =pd.DataFrame(drug_median)\n",
    "summary_stats_variance =pd.DataFrame(drug_variance)\n",
    "summary_stats_std =pd.DataFrame(drug_standard)\n",
    "summary_stats_sem =pd.DataFrame(drug_sem)\n",
    "\n",
    "summary_stats =pd.DataFrame({\"Mean\":drug_mean,\n",
    "                             \"Median\": drug_median,\n",
    "                             \"Variance\": drug_variance,\n",
    "                             \"Standard\": drug_standard,\n",
    "                             \"Sem\": drug_sem    \n",
    "})\n",
    "\n",
    "#summary_stats.index\n",
    "#summary_stats.columns\n",
    "summary_stats\n"
   ]
  },
  {
   "cell_type": "markdown",
   "metadata": {},
   "source": [
    "## Bar plots"
   ]
  },
  {
   "cell_type": "code",
   "execution_count": 5,
   "metadata": {},
   "outputs": [
    {
     "data": {
      "image/png": "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\n",
      "text/plain": [
       "<Figure size 432x288 with 1 Axes>"
      ]
     },
     "metadata": {
      "needs_background": "light"
     },
     "output_type": "display_data"
    }
   ],
   "source": [
    "# Generate a bar plot showing number of data points for each treatment regimen using pandas\n",
    "bar_summary= summary_stats.plot(kind =\"bar\")\n",
    "##summary_stats.plot.bar()\n",
    "\n",
<<<<<<< HEAD
=======
    "\n",
    "\n",
>>>>>>> fb8685b536881893e79a536e2c01a5a926065c44
    "bar_summary.set_xlabel(\"Drug Regimen\")\n",
    "bar_summary.set_ylabel(\"Summary Stats\")\n",
    "\n",
    "plt.tight_layout()\n",
    "plt.show()\n",
    "\n",
    "# Set textual properties\n",
    "#plt.title(\"Summary Data Points by Drug Regimen\")\n",
    "#plt.ylabel(\"Summary Stats\")\n",
    "#plt.xlabel(\"Drug Regimen\")\n",
    "\n",
    "# Set the xlabel and ylabel using class methods"
   ]
  },
  {
   "cell_type": "code",
<<<<<<< HEAD
   "execution_count": 6,
=======
   "execution_count": 21,
>>>>>>> fb8685b536881893e79a536e2c01a5a926065c44
   "metadata": {},
   "outputs": [
    {
     "data": {
      "image/png": "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\n",
      "text/plain": [
       "<Figure size 1440x360 with 1 Axes>"
      ]
     },
     "metadata": {
      "needs_background": "light"
     },
     "output_type": "display_data"
    },
    {
     "data": {
      "text/plain": [
       "<Figure size 432x288 with 0 Axes>"
      ]
     },
     "metadata": {},
     "output_type": "display_data"
    }
   ],
   "source": [
    "# Generate a bar plot showing number of data points for each treatment regimen using pyplot\n",
    "# Collect the data points columns\n",
    "multi_plot = summary_stats.plot(kind=\"bar\", figsize=(20,5))\n",
    "\n",
    "# PandasPlot.set_xticklabels() can be used to set the tick labels as well\n",
    "multi_plot.set_xticklabels(summary_stats.index, rotation=45)\n",
    "\n",
    "plt.show()\n",
    "plt.tight_layout()\n",
    "\n",
    "\n"
   ]
  },
  {
   "cell_type": "markdown",
   "metadata": {},
   "source": [
    "## Pie plots"
   ]
  },
  {
   "cell_type": "code",
<<<<<<< HEAD
   "execution_count": 7,
=======
   "execution_count": 6,
>>>>>>> fb8685b536881893e79a536e2c01a5a926065c44
   "metadata": {},
   "outputs": [
    {
     "data": {
<<<<<<< HEAD
      "image/png": "iVBORw0KGgoAAAANSUhEUgAAASwAAAEeCAYAAAAwzyjTAAAABHNCSVQICAgIfAhkiAAAAAlwSFlzAAALEgAACxIB0t1+/AAAADh0RVh0U29mdHdhcmUAbWF0cGxvdGxpYiB2ZXJzaW9uMy4xLjAsIGh0dHA6Ly9tYXRwbG90bGliLm9yZy+17YcXAAAcKUlEQVR4nO3deZhcZYHv8e9b1Z10NgrIHpY5QAioYQkSwGVYBONSEEBA7pU77CKgjDOjYg2onAsIJXhHuIBK2MFnkCAoXI5IHDYBZ0IyQBJ2EEuyEQhLZelOL1Xv/eNUkybpTi+pqvecU7/P89RTXZ0q+lch+eU9b73nPcZai4hIHKRcBxARGSgVlojEhgpLRGJDhSUisaHCEpHYUGGJSGyosEQkNlRYIhIbKiwRiQ0VlojEhgpLRGJDhSUisaHCEpHYUGGJSGyosEQkNlRYIhIbKiwRiQ0VlojEhgpLnDHGlIwxz/W4eTX8WacaY66t1X9f6qPJdQBpaG3W2n1dh5D40AhLIsUYkzbGXGmMWWCMWWyM+Ubl+4caYx43xsw1xrxqjMkbY04yxjxtjFlijNmt8ryjjDHzjTHPGmP+wxgzsZefMd4Yc0/lZywwxnym3u9ThkaFJS6N6HE4+NvK984AitbamcBM4OvGmF0qv7YP8G1gL+AfgGnW2gOAG4HzKs95EjjIWjsD+DVwfi8/92rgZ5WfcVzl9RIDOiQUl3o7JJwF7G2MOb7yOAPsDnQAC6y1KwGMMX8B5lWeswQ4rPL1jsBdxpjJwDDgr7383COAjxtjuh9vY4wZY61dW4X3JDWkwpKoMcB51tqHPvJNYw4F2nt8q9zjcZmNf5avAf7NWnt/5TV+Lz8jBXzKWttWvdhSDzoklKh5CDjHGNMMYIyZZowZNYjXZ4Dlla9P6eM584BvdT8wxmjiPyZUWBI1NwIvAs8YY54HrmdwRwI+cLcx5glgdR/P+Udg/8qk/ovA2VuRV+rI6FL1IhIXGmGJSGyosEQkNlRYIhIbKiwRiQ0VlojEhgpLRGJDK91lq3i5oAWYCEzqcev5eCzQDKQJ/4Hsvi8Rnm7TWbnvANYAKwgXfva8rSjksxvq9qYksrQOS/rl5QIDTAX2A2YA+wIeYSFl6hTjXTYW2DLgeWAB8KzKrHGosOQjvFzQDHycjeU0g3CXhDEuc21BF/ACYXl135YU8tkup6mkJlRYDc7LBSngQOBIwp0S9gKGOw219TYAiwjL60/AHwr5rHZiSAAVVgPyckEG+AJhSX0JGOc2Uc11AI8A9wH3F/LZFY7zyBCpsBqElwv2ALKEJfVZwonwRmQJR173AfcV8tkXHOeRQVBhJZiXCyYR7uB5MjDNcZyoep2wvO4q5LMLXIeRLVNhJUzlE73DCbdMmU3jjqSGYiFwHfBrffIYTSqshPBywTjgNOAswiUIMnTvAjcBPy/ks39zHUY2UmHFnJcLDiYcTX2F+H+6FzVlIACuBf5YyGf1l8UxFVZMebngOOAiwmUIUnuvAr8Abizks+tch2lUKqyY8XLBF4BLgf1dZ2lQq4BLgDmFfLbTdZhGo8KKCS8XfAb4MXCI6ywChJ8u/gCYq0PF+lFhRZyXC/YFLiNc4CnRsxD4fiGffcR1kEagwoqoykLPS4DjCa/VJ9E2j7C4nnMdJMlUWBHj5YIRwMXAPxNuxSLxYYE7gQu0HKI2VFgRUlmicCPhpdklvtYB5wO/1PxWdamwIsDLBaOBnwDnoMO/JPkP4IxCPvum6yBJoS2SHfNywSzCzejORWWVNEcAz3u54OuugySFRliOeLlgW+DfCE+nkeR7CDizkM8ucx0kzjTCcsDLBbOBF1FZNZIvEI629P98K2iEVUdeLkgDVxJ+AiiNKyCc21rlOkjcqLDqxMsFY4G7CLd+EVkKHF3IZ591HSROdEhYB14u2IdwRbTKSrrtBDzp5YLjXQeJE42waszLBScCNwMjXWeRSLKEC4X/t9Zs9U+FVSOVq9FcTriAUKQ/vwFOKeSzra6DRJkKqwa8XLAd4SkaX3CdRWLlWcJ5raWug0SVCqvKKictP4C2KZahWQV8pZDP/tl1kCjSpHsVVSbXn0BlJUM3EXjUywVfcx0kilRYVeLlgoOAR4HxrrNI7A0D7vBywemug0SNCqsKvFxwGPBHYDvXWSQxUsCNXi44x3WQKFFhbaXKycu/B0a7ziKJY4Cfe7ng266DRIUKayt4ueAIwqsGt7jOIol2lZcLdDoX+pRwyCqHgQEwwnUWaRjnFPLZX7oO4ZIKawi8XHAI4WGgVq9LPVng1EI+e7vrIK6osAapsnThSTRnJW6UgK8V8tm5roO4oMIaBC8XTASeBnZ2nUUaWicwq5DPPuY6SL2psAbIywXDgceAgxxHEQFYDcws5LMF10HqSZ8SDtyNqKwkOsYB93m5YJTrIPWkEdYAeLngAsLLxMsmbLnEytv+maYxY5lw/EW0/W0RHzx6M7bUybBJUxn7pW9jUptfXvH9R2+m7S8LsbbMiF1msN3hZ0Gpi7fvvYTS2tWMmZFlzH5ZAN79wzWMmfFlhk3crd5vLw7uAU5olK1pNMLqh5cLjgUudZ0jqtYuvJ/msTsBYG2Zd4OfMW72+Uw54+c0bTOBdUse3uw1G5a9RPvyl5h8+jVMOeM62le+SvvSJbT99RmGTZrK5NOvZe2iPwDQ8fYbYK3Kqm/HAT90HaJeVFhb4OWCGcAd6PJbvepas5q2NxYwep9ZAJTb1mLSzTRvvwMALd6+tL761GavMwZsVwe21IUtdUK5RHrkdphUGtvZDuXSh8/94IlfkfnsSfV5Q/Hle7ngGNch6kGF1QcvF0wC7gcaao5gMN5/eA7bHno6xoR9nhqxDbbcRfvK1wBofeUpSmtWb/a64Tt8jJad92bZdSez7NqTadllP5rH7UTLLjMorf+Albd/h8yBx9H62nyGTZxK05ixdX1fMWQIT5ae7jpIrTW5DhBFlavb3APs6DpLVLW+/jSpUdsyfNJUNry5GABjDONnn8/7j9yALXXS4u0Hvcxfdb6/gs53l7LjubcCsOquH7Bh6fO07DSd8bO/B4AtdbFq7o+YcNwPee/hGyiteYdR0w9n5O4H1u09xsxowkn4mYV89j3XYWpFhdW784FPuw4RZe3LX6Tttfks+8tCbKkD297G6v/3U8Yd9V0mnXQFAG1/fYau95Zv9trWV/+TYVP2IDUsPKtpxK77077iZVp22jhAWPtswOjph9O+/GVMuplxR3+ft371XRXWlu1Kwne61SHhJrxcsDfgu84Rddsdcio7fvM2djznZsbPPp+Wv9ubcUd9l9L6DwCwXZ2smf8bRs/40mavbdpmPO1Ln8eWS9hSF+1Ll3w4cQ9Q2rCOttcXMGr657Bd7eGklzHYrs66vb8Ym+Xlgm+4DlErKqwevFzQDNxOuIGaDMGap+9l+Q1ns+KWbzFitwMZ8Xf7ANC+8jXeffD/AjByj8/QtO1kVtz0TVbech7N43dh5NSNI6fiU3eS+fSJGGMYsct+dLz1Oitv+haj90nswKHarvRyQSLPxtA6rB68XHApcKHrHCJVMK+Qzyau4VVYFV4uOAD4M7D5LLFIPH29kM/e6DpENamwAC8XjCC8xNIerrOIVNEaYHqSLhumOazQ5aisJHm2Aea4DlFNDT/C8nLBocAjaDW7JNfphXz2FtchqqGhC8vLBU3AC8A011lEaugDwkPDzRfFxUyjHxJ+A5WVJN+2wNWuQ1RDw46wvFwwBngdmOA6i0idHFDIZxe4DrE1GnmEdT4qK2ksedcBtlZDjrC8XDAFeA1d9UYaz6xCPvtH1yGGqlFHWBejspLGdJmXC2L7iXjDFZaXCz4BnOo6h4gj+wPHuw4xVA1XWMBP0Ok30tgurSzpiZ2GKqzKItGs6xwijk0DTnMdYigaqrCAy1wHEImIi7xc0OI6xGA1TGF5uWAm8CnXOUQiYgfgXNchBqthCgv4R9cBRCLmPC8XxKoDYhV2qLxcMBH4quscIhHjAZvvYR1hDVFYwFlo22OR3pzjOsBgJH6le2Wf9gIwxXEUkSgqA7sV8tmC6yAD0QgjrONQWYn0JQWc7TrEQDVCYZ3nOoBIxJ3u5YJYTJkkurC8XLAfuiCqSH/GAye4DjEQiS4stJRBZKBisSYrsZPuXi4YCawGRrjOIhIT+xTy2cWuQ2xJkkdYX0RlJTIYZ7oO0J8kF9axrgOIxMzRrgP0J5GHhJW1V28Tbr4vIgO3byGfXeQ6RF+SOsI6FJWVyFAc5TrAliS1sHQ4KDI0s10H2JLEHRJW9qteDkx2nUUkhiywQyGfXek6SG+SOMI6CJWVyFAZ4EjXIfqSxMLS4aDI1onsPJYKS0Q2dYSXCyK5hjFRheXlgt2Aqa5ziMTcCOAI1yF6k6jCAg50HUAkIb7sOkBvklZYB7gOIJIQkfy7pMISkd5Mj+IeWYkprMrpODNc5xBJiGHAXq5DbCoxhQXsDcTuwpAiEfZJ1wE2laTC0uGgSHWpsGpInxCKVJcKq4Y0whKprr2iNvGeiMLycsE2wB6uc4gkzDBguusQPSWisID9SM57EYmSSB0WJuUvuec6gEhCqbBqYCfXAUQSKlLn5qqwRGRLprgO0FNSCmtH1wFEEipSm2EmpbA0whKpjW29XBCZM0iSUlgaYYnUTmQOC2NfWF4uGI0u6SVSS5E5LIx9YaHRlUitqbCqSPNXIrWlwqoijbBEaitec1jGmEuMMU09Hm9jjLmldrEGZbzrACIJF7sRVhMw3xiztzFmFrAA+O/axRqUSF6OSCRBJroO0K2p/6eAtfZfjTEPA/OB94GDrbWv1zTZwA13HUAk4eK1DssYczBwNXAx8BhwrTEmKse1kfnNFEmoAQ1s6mGgQX4KnGCtfRHAGPMV4BFgz1oFGwSNsERqK3aF9Slrban7gbX2XmPM4zXKNCg/aLrjvTG0Pd5JmhJpusJbqrP7a5s24eMmukiZEmnTReV7tqnydSpVeY4pkU512fBx961EOlUKn5PuIp0q2VSqRCpdeZwukUqVSaVL4a2pi3QajHH9eyNSJbErrHHGmMuAHay1XzTGfBz4FHBT7aINzJlND04GDnGdY1PWYoFS5dYFlCyUwZQslCr3ZYspV+5L4demXN7sPmXL4X25jLFlUrZEypZtqlza+JgS6XLpw69TtkSaLhvel0jZSlHbrvAxXaRNp03bSol3l73prDwu2e6vm0wXqY1FTxNdNp2qlL0Ji3tj+ZdsOh2Wf6pS+B8p+3SZlAFU6DFhYZ3rDN0GWli3ArcAF1YevwrcRQQKC7CuA/TGGAzh728TlcPW8G9od9wqxNZfeamPlXCy6wzAwJc1jLPWzgXKANbaLsKRQxREsrBEEqTLdYBuAy2s9caYsVTKwRhzEFCsWarBUWGJ1Fan6wDdBnpI+C/A/cBuxpinCFeXH1+zVINTdh1AJOHiMcIyxsw0xkyy1j5DOLF9AdAOzAOW1SHfQKx1HUAk4eJRWMD1QEfl608TTrpfR7jafU4Ncw3G264DiCRcq+sA3fo7JExba9+rfH0iMMdaew9wjzHmudpGGzAVlkhtrXQdoFt/I6x0j10aDidc3d4tKovJVFgitRWZwuqvdO4EHjfGrAbagCcAjDFTic6nhCoskdpa4TpAty0WlrX2x5VdGiYD86y13UsIUsB5tQ43QCoskdqKzQgLa+1/9fK9V2sTZ0hUWCK1FZnCiv8WyX6xA/jAdQyRBIvMIWH8CyukUZZIbVhglesQ3VRYIrIlq/GLkTk1JymFFZljbJGEiczhICSnsF5wHUAkoSI1GEhKYUVl1b1I0rzsOkBPSSmsRa4DiCRUVC7nBySlsPxiAS1tEKkFFVaNaJQlUl3rgFdch+gpSYWleSyR6noOvxipDTKTVFgaYYlU10LXATaVpMLSCEukuiI1fwXJKqwXiNBm+SIJoMKqmfAk6EitGRGJschNuEOSCiv0pOsAIgkRuQl3SF5h/d51AJGEmO86QG+SVliPABtchxBJgAdcB+hNsgrLL7YCj7mOIRJz7xPR6ZVkFVZIh4UiW+dB/GJkLp7aUxILK3AdQCTm7ncdoC/JKyy/+AYR/DhWJCY6gQddh+hL8gorpFGWyNA8jl9c4zpEX5JaWJrHEhmayB4OQnIL60/AWtchRGJIhVV34VU+InscLhJRi/GLf3MdYkuSWVihW10HEImZ37kO0J8kF9Y8YLnrECIxYYHbXIfoT3ILyy+WgNtdxxCJiYcrS4IiLbmFFbrZdQCRmLjBdYCBSHZh+cXXgcddxxCJuLeB37oOMRDJLqzQda4DiETcrZVP1iOvEQrrt8AK1yFEIqoE/Nx1iIFKfmGFZ51f7zqGSETdF/W1Vz0lv7BCc9AFKkR6c5XrAIPRGIXlF98C/t11DJGIeQa/+ITrEIPRGIUVuhiNskR6+pnrAIPVOIUVLorTuiyR0AvE8KijcQordAm6SIUIwAVRvIxXfxqrsPzicmL0Ea5IjTyFX4z0NjJ9aazCCl2O9sqSxvZ91wGGqvEKyy+uJmYf5YpU0f34xadchxiqxius0P8B3nMdQqTOSsAFrkNsjcYsLL9YBK5wHUOkzm7HL77gOsTWaMzCCl0DvOU6hEidbAAuch1iazVuYYWXtf+26xgidXItfnGp6xBbq3ELC8AvziUG+1iLbKWlwKWuQ1RDYxdW6FzgfdchRGrozMq8beypsPziSuBfXMcQqZE5+MV5rkNUiwoLwC/eCjzkOoZIlRWA77gOUU1NrgNEyFnA88AY10HiwrtqLWOGG9IGmlKw8KzRvNdmOfE3rRQ+sHjbGuYeP5LtRpiPvO65t0qcE2xgTbslbeDCvx/OidObATjp3laWrCpz5LQmLju8BYBLHm9n74kpjt6zue7vMcYscAZ+cZ3rINWkEVY3v/gmkHMdI24ePWUkz509moVnjQYg/2Q7h+/SxGvnjebwXZrIP9m+2WtGNsPtx7Twwrmj+cP/Gsk/PbSBDzZYFq8qAbD4nNE88WaJ4gbLyrVlnl5RUlkN3i/wi4+4DlFtKqyP+gXwJ9ch4uy+V7o4ZZ+wXE7Zp5nfvdK12XOmjU2z+9g0AFPGpJgwyvDO+jLNKWjrhLK1dJQs6RT86NF2Lj50eF3fQwK8AZzvOkQtqLB68osWOBNodR0lDoyBWXe08sk565jz3x0ArFpXZvKY8I/V5DEp3l6/5R1Mnl5eoqMEu22f4mPj0+ycSbHf9ev56sebef29MhaYMTld67eSJBY4Db+43nWQWtAc1qb84mv4mTOJ4eZm9fbU6aOYUimlz9/Ryp7jBvfv38q1Zf7ht23cdkwLKRPOc131xZYPf/2oO1u5/sgWfvyndhatKvH5XZv4+ieHVfU9JNA1+MXEHiVohNUbv3gn4QnSsgVTKiOpCaNSHLtnE08vLzFxdIqVa8NR1cq1ZSaM6v2P2Jp2S/bfW7n0sOEctOPm/27e93In+09Os77D8vw7JeaeMJI7FnfS2mlr94bi7z9J6KFgNxVW374P/NF1iKha32FZ224//HreX0pMn5Bm9rQmblsUbp1/26JOjt5j8zLqKFmOvauVk/dp5oRPbD6Z3lmyXD2/g+99ZhitndD9GWPZQkepZm8p7pYCx+IXN/+UI0GMtfoXq09+ZntgAbCr6yhR88b7ZY69K5zq6yrD16Y3c+HBw3m3tcxXf9PGm0XLzhnD3SeMZPsRhoUrSvxyYQc3zh7BrxZ3cNp9G/jE+I3/Xt56zAj2nRTOVV31X+1s12I4Zd9hWGv52r1tPP92mS9PbeInn2/pNU+DawU+i1981nWQWlNh9cfP7EU41B7lOopILyxwIn7xbtdB6kGHhP3xi0uA01zHEOnDJY1SVqDCGpjwD0TedQyRTdwL+K5D1JMKa+AuBB50HUKkYhFwcmXtYMPQHNZg+JkM8Cgww3UUaWhvAzMrp5M1FI2wBiPcU2gW8JLrKNKw1gBHNWJZgQpr8MLLhB1BeL6WSD2tA76MX3zadRBXVFhD4RdXAIcDy11HkYbRRjiyiu01BatBhTVUfrEAHIZKS2pvA3A0fvEx10FcU2FtDb/4GnAI4WkRIrXQCszGL+o0MfQpYXX4mV0JPz3c2XUUSZS1wJFJ3n1hsFRY1eJnPOARYBfHSSQZPgC+iF+c7zpIlOiQsFrCOa2DgD87TiLx9w7wOZXV5lRY1eQX3wY+B9zhOorE1nPA/o2w88JQ6JCwVvzMvwI/ZuN2TiL9mUu4vbG26O6DCquW/MwxwK/Q1jSyZWXgh/jFy1wHiToVVq35mX2B+4GdXEeRSFoDnIRffMB1kDhQYdWDn5kE/A440HUUiZTXCddY6dzUAdKkez34xbeAQ9FkvGw0DzhAZTU4GmHVm585EbgOGOs6ijhRAq4gnLPSJTUGSYXlQniIeANwpOsoUlcvEX4KqPVVQ6TCcsnPnAZcBWzjOorUVAm4EvCTfhmuWlNhueZndgZuIVxwKsnzAuGoaoHrIEmgSXfXwp0jjwDOIzwzX5Khi3Dh8H4qq+rRCCtK/MxU4CbgYNdRZKssAU7FLz7jOkjSqLCiKFwhfzmwp+soMihrCD8BvAK/2Ok6TBKpsKLKz6SBMwmvOzfJbRjpxwbgWiCPX3zXdZgkU2FFnZ8ZBXwH+B4w2nEa+aguwg9MLsYvLnMdphGosOLCz0wALgLOApocp2l0FribcPHnq67DNBIVVtz4mWnAZcBX0NY1LjwEXKAJdTdUWHHlZ/YA/gk4GRjpOE3SWeBBwsn0x12HaWQqrLjzM9sDZwPfBKY4TpM0awjnqK6rXCFJHFNhJYWfaQaOISyvw9Dh4tZYAlwP3IZfXOc6jGykwkoiP7M78A3gVLQrxECtBe4EbmrkS8FHnQoryfzMMMJzFI8GZqNDxk21AQ8D9wB34xfXO84j/VBhNQo/Y4ADCMvrGOBjbgM5sxx4oHJ7GL/Y5jiPDIIKq1GFyyO6y+sgknsivAUW0F1SunxWrKmwBPzMRODvgZmV2yeJ7x5dJcKN8p4FHgMC/OIqp4mkalRYsrnw8HEaGwtsJrAvMMJlrF5sIPxE71ngmcr9YvziBqeppGZUWDIwfqYJ+ARhce0E7LDJbQK1WUpRBN4CVlXulwGLCMvpJfxiVw1+pkSUCkuqI1wHNpmPltj2wLDKrbly30R44dAy4eFb9/17bCyljQWl0ZL0oMISkdhI6idDIpJAKiwRiQ0VlojEhgpLRGJDhSUisaHCkl4ZY6wx5o4ej5uMMe8YYx7o53WH9vcckaFSYUlf1gPTjTHdq9s/T3jisIgzKizZkgeBbOXr/0m4XxQAxpgDjDF/NsY8W7nfY9MXG2NGGWNuNsYsqDzv6DrlloRSYcmW/Br4H8aYFmBvYH6PX3sZONhaOwP4EeGFMTZ1IfCItXYm4S6oVxpjRtU4sySYLhclfbLWLjbGeISjq99v8ssZ4DZjzO6EW7g09/KfmAXMNsZ8t/K4BdiZcDcFkUFTYUl/7gd+ChzKR7dbvgR41Fp7bKXUHuvltQY4zlr7Sm0jSqPQIaH052bgYmvtkk2+n2HjJPypfbz2IeA8Y4wBMMbMqElCaRgqLNkia+0ya+3VvfzSFcDlxpingHQfL7+E8FBxsTHm+cpjkSHTbg0iEhsaYYlIbKiwRCQ2VFgiEhsqLBGJDRWWiMSGCktEYkOFJSKxocISkdhQYYlIbKiwRCQ2VFgiEhsqLBGJDRWWiMSGCktEYkOFJSKxocISkdhQYYlIbKiwRCQ2VFgiEhv/H1QrBXNG/AxtAAAAAElFTkSuQmCC\n",
=======
      "image/png": "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\n",
>>>>>>> fb8685b536881893e79a536e2c01a5a926065c44
      "text/plain": [
       "<Figure size 360x360 with 1 Axes>"
      ]
     },
     "metadata": {},
     "output_type": "display_data"
    }
   ],
   "source": [
    "# Generate a pie plot showing the distribution of female versus male mice using pandas\n",
    "sex_count = mouse_metadata.groupby(\"Sex\")[\"Sex\"].count()\n",
    "                           \n",
<<<<<<< HEAD
    "plot =sex_count.plot.pie(y='Sex',figsize=(5,5), autopct=\"%1.1f%%\")"
=======
    "plot =sex_count.plot.pie(y='Sex',figsize=(5,5))"
>>>>>>> fb8685b536881893e79a536e2c01a5a926065c44
   ]
  },
  {
   "cell_type": "code",
   "execution_count": 8,
   "metadata": {},
   "outputs": [
    {
     "data": {
      "image/png": "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\n",
      "text/plain": [
       "<Figure size 432x288 with 1 Axes>"
      ]
     },
     "metadata": {},
     "output_type": "display_data"
    }
   ],
   "source": [
    "# Generate a pie plot showing the distribution of female versus male mice using pyplot\n",
    "\n",
    "\n",
    "sex =mouse_metadata[\"Sex\"].value_counts()\n",
    "labels =mouse_metadata[\"Sex\"].unique()\n",
    "explode = (0.1, 0)\n",
    "\n",
    "plt.pie(sex, explode=explode, labels= labels, \n",
    "        autopct=\"%1.1f%%\", shadow=True, startangle=45)\n",
    "# Create axes which are equal so we have a perfect circle\n",
    "plt.axis(\"equal\")\n",
    "plt.show()\n",
    "\n"
   ]
  },
  {
   "cell_type": "markdown",
   "metadata": {},
   "source": [
    "## Quartiles, outliers and boxplots"
   ]
  },
  {
   "cell_type": "code",
   "execution_count": 9,
   "metadata": {},
<<<<<<< HEAD
   "outputs": [],
   "source": [
    "# Calculate the final tumor volume of each mouse across four of the most promising treatment regimens. "
   ]
  },
  {
   "cell_type": "code",
   "execution_count": 10,
   "metadata": {},
   "outputs": [],
   "source": [
    "#Calculate the IQR and quantitatively determine if there are any potential outliers. "
=======
   "outputs": [
    {
     "data": {
      "text/plain": [
       "Male      125\n",
       "Female    124\n",
       "Name: Sex, dtype: int64"
      ]
     },
     "execution_count": 9,
     "metadata": {},
     "output_type": "execute_result"
    }
   ],
   "source": [
    "# Calculate the final tumor volume of each mouse across four of the most promising treatment regimens. Calculate the IQR and quantitatively determine if there are any potential outliers. \n",
    "\n",
    "count =mouse_metadata[\"Sex\"].value_counts()\n",
    "#ty=mouse_metadata[\"Sex\"].unique()\n",
    "#ty\n",
    "count\n"
>>>>>>> fb8685b536881893e79a536e2c01a5a926065c44
   ]
  },
  {
   "cell_type": "code",
<<<<<<< HEAD
   "execution_count": 11,
=======
   "execution_count": null,
>>>>>>> fb8685b536881893e79a536e2c01a5a926065c44
   "metadata": {},
   "outputs": [],
   "source": [
    "# Generate a box plot of the final tumor volume of each mouse across four regimens of interest"
   ]
  },
  {
   "cell_type": "markdown",
   "metadata": {},
   "source": [
    "## Line and scatter plots"
   ]
  },
  {
   "cell_type": "code",
<<<<<<< HEAD
   "execution_count": 14,
=======
   "execution_count": 55,
>>>>>>> fb8685b536881893e79a536e2c01a5a926065c44
   "metadata": {},
   "outputs": [
    {
     "data": {
      "image/png": "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\n",
      "text/plain": [
       "<Figure size 432x288 with 1 Axes>"
      ]
     },
     "metadata": {
      "needs_background": "light"
     },
     "output_type": "display_data"
    },
    {
     "data": {
      "text/plain": [
       "<Figure size 432x288 with 0 Axes>"
      ]
     },
     "metadata": {},
     "output_type": "display_data"
    }
   ],
   "source": [
    "# Generate a line plot of time point versus tumor volume for a mouse treated with Capomulin\n",
<<<<<<< HEAD
=======
    "##Generate a line plot of time point versus tumor volume for a single mouse treated with Capomulin.\n",
>>>>>>> fb8685b536881893e79a536e2c01a5a926065c44
    "\n",
    "mouse_data = combined_data_df.loc[(combined_data_df[\"Mouse ID\"] == \"m601\") & (\n",
    "    combined_data_df[\"Drug Regimen\"] == \"Capomulin\"), [\"Mouse ID\", \"Timepoint\",\"Tumor Volume (mm3)\"]]\n",
    "\n",
    "\n",
    "mouse_data.plot(x ='Timepoint', y='Tumor Volume (mm3)', kind = 'line', title=\"Time point versus tumor volume for m601 Mouse\")\n",
    "#plt.xlabel(\"Timepoint\")\n",
    "plt.ylabel(\"Tumor vol\")\n",
    "\n",
    "plt.show()\n",
    "plt.tight_layout()\n",
    "\n"
   ]
  },
  {
   "cell_type": "code",
<<<<<<< HEAD
   "execution_count": 12,
=======
   "execution_count": 98,
>>>>>>> fb8685b536881893e79a536e2c01a5a926065c44
   "metadata": {},
   "outputs": [
    {
     "data": {
      "text/plain": [
<<<<<<< HEAD
       "<matplotlib.axes._subplots.AxesSubplot at 0x23fc015b710>"
      ]
     },
     "execution_count": 12,
=======
       "<matplotlib.axes._subplots.AxesSubplot at 0x1393ac36eb8>"
      ]
     },
     "execution_count": 98,
>>>>>>> fb8685b536881893e79a536e2c01a5a926065c44
     "metadata": {},
     "output_type": "execute_result"
    },
    {
     "data": {
<<<<<<< HEAD
      "image/png": "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\n",
=======
      "image/png": "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\n",
>>>>>>> fb8685b536881893e79a536e2c01a5a926065c44
      "text/plain": [
       "<Figure size 432x288 with 1 Axes>"
      ]
     },
     "metadata": {
      "needs_background": "light"
     },
     "output_type": "display_data"
    }
   ],
   "source": [
    "# Generate a scatter plot of mouse weight versus average tumor volume for the Capomulin regimen\n",
<<<<<<< HEAD
    "scatter_data = combined_data_df.loc[(combined_data_df[\"Drug Regimen\"] == \"Capomulin\"),[\"Mouse ID\", \"Weight (g)\",\"Tumor Volume (mm3)\"]]\n",
    "scatter_plot = scatter_data.groupby([\"Mouse ID\",\"Weight (g)\"])[\"Tumor Volume (mm3)\"].mean()\n",
=======
    "scatter_data = combined_data_df.loc[(combined_data_df[\"Drug Regimen\"] == \"Capomulin\"),[\"Weight (g)\",\"Tumor Volume (mm3)\"]]\n",
    "scatter_plot_w = scatter_data.groupby([\"Weight (g)\"])\n",
    "\n",
    "scatter_plot= scatter_plot_w[\"Tumor Volume (mm3)\"].mean().to_frame()\n",
    "\n",
>>>>>>> fb8685b536881893e79a536e2c01a5a926065c44
    "scatter_plot= scatter_plot.reset_index()\n",
    "\n",
    "scatter_plot.plot(x ='Weight (g)', y='Tumor Volume (mm3)', kind = 'scatter', color='green', title=\"weight versus average tumor volume for Capomulin\", marker='^')\n"
   ]
  },
  {
   "cell_type": "code",
<<<<<<< HEAD
   "execution_count": 13,
   "metadata": {},
   "outputs": [
    {
     "name": "stdout",
     "output_type": "stream",
     "text": [
      "The correlation between both factors is 0.84\n"
     ]
    },
    {
     "data": {
      "image/png": "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\n",
      "text/plain": [
       "<Figure size 432x288 with 1 Axes>"
      ]
     },
     "metadata": {
      "needs_background": "light"
     },
     "output_type": "display_data"
=======
   "execution_count": 105,
   "metadata": {},
   "outputs": [
    {
     "ename": "SyntaxError",
     "evalue": "invalid syntax (<ipython-input-105-fa197bb1c04e>, line 2)",
     "output_type": "error",
     "traceback": [
      "\u001b[1;36m  File \u001b[1;32m\"<ipython-input-105-fa197bb1c04e>\"\u001b[1;36m, line \u001b[1;32m2\u001b[0m\n\u001b[1;33m    correlation = st.pearsonr(Weight (g),Tumor Volume (mm3))\u001b[0m\n\u001b[1;37m                                                    ^\u001b[0m\n\u001b[1;31mSyntaxError\u001b[0m\u001b[1;31m:\u001b[0m invalid syntax\n"
     ]
>>>>>>> fb8685b536881893e79a536e2c01a5a926065c44
    }
   ],
   "source": [
    "# Calculate the correlation coefficient and linear regression model for mouse weight and average tumor volume for the Capomulin regimen\n",
<<<<<<< HEAD
    "correlation = st.pearsonr(scatter_plot['Weight (g)'],scatter_plot['Tumor Volume (mm3)'])\n",
    "print(f\"The correlation between both factors is {round(correlation[0],2)}\")\n",
    "\n",
    "x_values = scatter_plot['Weight (g)']\n",
    "y_values = scatter_plot['Tumor Volume (mm3)']\n",
    "(slope, intercept, rvalue, pvalue, stderr) = st.stats.linregress(x_values, y_values)\n",
    "regress_values = x_values * slope + intercept\n",
    "line_eq = \"y = \" + str(round(slope,2)) + \"x + \" + str(round(intercept,2))\n",
    "plt.scatter(x_values,y_values)\n",
    "plt.plot(x_values,regress_values,\"r-\", color=\"red\")\n",
    "plt.xlabel('Weight in grams')\n",
    "plt.ylabel('Avg Tumor Vol mm3')\n",
    "plt.show()"
   ]
=======
    "correlation = st.pearsonr(Weight (g),Tumor Volume (mm3))\n",
    "correlation\n",
    "#plt.scatter('Weight (g)','Tumor Volume (mm3)')\n",
    "#plt.xlabel('Population Median Age')\n",
    "#plt.ylabel('Cell Phones Per 100 People')\n",
    "#print(f\"The correlation between both factors is {round(correlation[0],2)}\")\n",
    "#plt.show()\n"
   ]
  },
  {
   "cell_type": "code",
   "execution_count": null,
   "metadata": {},
   "outputs": [],
   "source": []
>>>>>>> fb8685b536881893e79a536e2c01a5a926065c44
  }
 ],
 "metadata": {
  "anaconda-cloud": {},
  "kernelspec": {
   "display_name": "Python 3",
   "language": "python",
   "name": "python3"
  },
  "language_info": {
   "codemirror_mode": {
    "name": "ipython",
    "version": 3
   },
   "file_extension": ".py",
   "mimetype": "text/x-python",
   "name": "python",
   "nbconvert_exporter": "python",
   "pygments_lexer": "ipython3",
   "version": "3.7.3"
  }
 },
 "nbformat": 4,
 "nbformat_minor": 2
}
